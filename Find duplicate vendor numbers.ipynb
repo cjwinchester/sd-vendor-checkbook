{
 "cells": [
  {
   "cell_type": "markdown",
   "id": "615fd3ac",
   "metadata": {},
   "source": [
    "# Find duplicate vendor numbers\n",
    "\n",
    "Vendor numbers in the SD data are not unique, but they typically point to the same entity with some variation (a typo, a more specific name, etc.)."
   ]
  },
  {
   "cell_type": "code",
   "execution_count": 1,
   "id": "0590bef1",
   "metadata": {},
   "outputs": [],
   "source": [
    "import pandas as pd\n",
    "from fetch_latest_data import csv_read_settings"
   ]
  },
  {
   "cell_type": "code",
   "execution_count": 2,
   "id": "3d5b7632",
   "metadata": {},
   "outputs": [],
   "source": [
    "df = pd.read_csv('sd-vendor-checkbook.csv', **csv_read_settings)"
   ]
  },
  {
   "cell_type": "code",
   "execution_count": 3,
   "id": "19912547",
   "metadata": {},
   "outputs": [
    {
     "data": {
      "text/html": [
       "<div>\n",
       "<style scoped>\n",
       "    .dataframe tbody tr th:only-of-type {\n",
       "        vertical-align: middle;\n",
       "    }\n",
       "\n",
       "    .dataframe tbody tr th {\n",
       "        vertical-align: top;\n",
       "    }\n",
       "\n",
       "    .dataframe thead th {\n",
       "        text-align: right;\n",
       "    }\n",
       "</style>\n",
       "<table border=\"1\" class=\"dataframe\">\n",
       "  <thead>\n",
       "    <tr style=\"text-align: right;\">\n",
       "      <th></th>\n",
       "      <th>agency</th>\n",
       "      <th>document_date</th>\n",
       "      <th>document_number</th>\n",
       "      <th>vendor_name</th>\n",
       "      <th>vendor_number</th>\n",
       "      <th>vendor_group_number</th>\n",
       "      <th>ap_payment_date</th>\n",
       "      <th>voucher_number</th>\n",
       "      <th>amt</th>\n",
       "    </tr>\n",
       "  </thead>\n",
       "  <tbody>\n",
       "    <tr>\n",
       "      <th>0</th>\n",
       "      <td>010</td>\n",
       "      <td>2022-07-05</td>\n",
       "      <td>01307002</td>\n",
       "      <td>GRANT COUNTY REVIEW INC</td>\n",
       "      <td>12403860</td>\n",
       "      <td>NaN</td>\n",
       "      <td>2022-07-08</td>\n",
       "      <td>001134</td>\n",
       "      <td>48.00</td>\n",
       "    </tr>\n",
       "    <tr>\n",
       "      <th>1</th>\n",
       "      <td>010</td>\n",
       "      <td>2022-07-05</td>\n",
       "      <td>111</td>\n",
       "      <td>BLACK HILLS LODGING LLC</td>\n",
       "      <td>12620107</td>\n",
       "      <td>NaN</td>\n",
       "      <td>2022-07-08</td>\n",
       "      <td>001138</td>\n",
       "      <td>75.00</td>\n",
       "    </tr>\n",
       "    <tr>\n",
       "      <th>2</th>\n",
       "      <td>010</td>\n",
       "      <td>2022-07-05</td>\n",
       "      <td>48646</td>\n",
       "      <td>SD HERITAGE STORE</td>\n",
       "      <td>STATE</td>\n",
       "      <td>83</td>\n",
       "      <td>2022-07-08</td>\n",
       "      <td>001131</td>\n",
       "      <td>308.40</td>\n",
       "    </tr>\n",
       "    <tr>\n",
       "      <th>3</th>\n",
       "      <td>010</td>\n",
       "      <td>2022-07-05</td>\n",
       "      <td>IN3835168</td>\n",
       "      <td>INNOVATIVE OFFICE SOLUTIONS</td>\n",
       "      <td>12550348</td>\n",
       "      <td>NaN</td>\n",
       "      <td>2022-07-08</td>\n",
       "      <td>001130</td>\n",
       "      <td>15.07</td>\n",
       "    </tr>\n",
       "    <tr>\n",
       "      <th>4</th>\n",
       "      <td>010</td>\n",
       "      <td>2022-07-05</td>\n",
       "      <td>IN3843549</td>\n",
       "      <td>INNOVATIVE OFFICE SOLUTIONS</td>\n",
       "      <td>12550348</td>\n",
       "      <td>NaN</td>\n",
       "      <td>2022-07-08</td>\n",
       "      <td>001142</td>\n",
       "      <td>26.24</td>\n",
       "    </tr>\n",
       "  </tbody>\n",
       "</table>\n",
       "</div>"
      ],
      "text/plain": [
       "  agency document_date document_number                  vendor_name  \\\n",
       "0    010    2022-07-05        01307002      GRANT COUNTY REVIEW INC   \n",
       "1    010    2022-07-05             111      BLACK HILLS LODGING LLC   \n",
       "2    010    2022-07-05           48646            SD HERITAGE STORE   \n",
       "3    010    2022-07-05       IN3835168  INNOVATIVE OFFICE SOLUTIONS   \n",
       "4    010    2022-07-05       IN3843549  INNOVATIVE OFFICE SOLUTIONS   \n",
       "\n",
       "  vendor_number vendor_group_number ap_payment_date voucher_number     amt  \n",
       "0      12403860                 NaN      2022-07-08         001134   48.00  \n",
       "1      12620107                 NaN      2022-07-08         001138   75.00  \n",
       "2         STATE                  83      2022-07-08         001131  308.40  \n",
       "3      12550348                 NaN      2022-07-08         001130   15.07  \n",
       "4      12550348                 NaN      2022-07-08         001142   26.24  "
      ]
     },
     "execution_count": 3,
     "metadata": {},
     "output_type": "execute_result"
    }
   ],
   "source": [
    "df.head()"
   ]
  },
  {
   "cell_type": "code",
   "execution_count": 4,
   "id": "8080e693",
   "metadata": {},
   "outputs": [
    {
     "data": {
      "text/plain": [
       "620431"
      ]
     },
     "execution_count": 4,
     "metadata": {},
     "output_type": "execute_result"
    }
   ],
   "source": [
    "len(df)"
   ]
  },
  {
   "cell_type": "code",
   "execution_count": 5,
   "id": "73dbb4cc",
   "metadata": {},
   "outputs": [],
   "source": [
    "unique_combos = df[['vendor_number', 'vendor_name']].drop_duplicates()"
   ]
  },
  {
   "cell_type": "code",
   "execution_count": 6,
   "id": "02c99d08",
   "metadata": {},
   "outputs": [
    {
     "data": {
      "text/plain": [
       "29091"
      ]
     },
     "execution_count": 6,
     "metadata": {},
     "output_type": "execute_result"
    }
   ],
   "source": [
    "len(unique_combos)"
   ]
  },
  {
   "cell_type": "code",
   "execution_count": 7,
   "id": "79154231",
   "metadata": {},
   "outputs": [],
   "source": [
    "# wild https://stackoverflow.com/a/48628442\n",
    "v = unique_combos['vendor_number'].value_counts()\n",
    "vendor_number_duplicates = unique_combos[unique_combos['vendor_number'].isin(v.index[v.gt(1)])].sort_values('vendor_number')"
   ]
  },
  {
   "cell_type": "code",
   "execution_count": 8,
   "id": "2b4a2d0b",
   "metadata": {},
   "outputs": [
    {
     "data": {
      "text/plain": [
       "5654"
      ]
     },
     "execution_count": 8,
     "metadata": {},
     "output_type": "execute_result"
    }
   ],
   "source": [
    "len(vendor_number_duplicates)"
   ]
  },
  {
   "cell_type": "code",
   "execution_count": 9,
   "id": "43f2e90a",
   "metadata": {},
   "outputs": [
    {
     "data": {
      "text/html": [
       "<div>\n",
       "<style scoped>\n",
       "    .dataframe tbody tr th:only-of-type {\n",
       "        vertical-align: middle;\n",
       "    }\n",
       "\n",
       "    .dataframe tbody tr th {\n",
       "        vertical-align: top;\n",
       "    }\n",
       "\n",
       "    .dataframe thead th {\n",
       "        text-align: right;\n",
       "    }\n",
       "</style>\n",
       "<table border=\"1\" class=\"dataframe\">\n",
       "  <thead>\n",
       "    <tr style=\"text-align: right;\">\n",
       "      <th></th>\n",
       "      <th>vendor_number</th>\n",
       "      <th>vendor_name</th>\n",
       "    </tr>\n",
       "  </thead>\n",
       "  <tbody>\n",
       "    <tr>\n",
       "      <th>374427</th>\n",
       "      <td>12001967</td>\n",
       "      <td>VNDR   12001967</td>\n",
       "    </tr>\n",
       "    <tr>\n",
       "      <th>366607</th>\n",
       "      <td>12001967</td>\n",
       "      <td>TEDS INC</td>\n",
       "    </tr>\n",
       "    <tr>\n",
       "      <th>372139</th>\n",
       "      <td>12002177</td>\n",
       "      <td>VNDR   12002177</td>\n",
       "    </tr>\n",
       "    <tr>\n",
       "      <th>154183</th>\n",
       "      <td>12002177</td>\n",
       "      <td>DAKOTA FIXTURE &amp; CABINET CO</td>\n",
       "    </tr>\n",
       "    <tr>\n",
       "      <th>65091</th>\n",
       "      <td>12002203</td>\n",
       "      <td>LOW VISION CENTER</td>\n",
       "    </tr>\n",
       "  </tbody>\n",
       "</table>\n",
       "</div>"
      ],
      "text/plain": [
       "       vendor_number                  vendor_name\n",
       "374427      12001967              VNDR   12001967\n",
       "366607      12001967                     TEDS INC\n",
       "372139      12002177              VNDR   12002177\n",
       "154183      12002177  DAKOTA FIXTURE & CABINET CO\n",
       "65091       12002203            LOW VISION CENTER"
      ]
     },
     "execution_count": 9,
     "metadata": {},
     "output_type": "execute_result"
    }
   ],
   "source": [
    "vendor_number_duplicates.head()"
   ]
  },
  {
   "cell_type": "code",
   "execution_count": 10,
   "id": "dd128d24",
   "metadata": {},
   "outputs": [
    {
     "data": {
      "text/plain": [
       "2439"
      ]
     },
     "execution_count": 10,
     "metadata": {},
     "output_type": "execute_result"
    }
   ],
   "source": [
    "vendor_number_duplicates['vendor_number'].nunique()"
   ]
  }
 ],
 "metadata": {
  "kernelspec": {
   "display_name": "Python 3 (ipykernel)",
   "language": "python",
   "name": "python3"
  },
  "language_info": {
   "codemirror_mode": {
    "name": "ipython",
    "version": 3
   },
   "file_extension": ".py",
   "mimetype": "text/x-python",
   "name": "python",
   "nbconvert_exporter": "python",
   "pygments_lexer": "ipython3",
   "version": "3.10.8"
  }
 },
 "nbformat": 4,
 "nbformat_minor": 5
}
